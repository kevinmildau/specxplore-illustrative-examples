{
 "cells": [
  {
   "cell_type": "markdown",
   "metadata": {},
   "source": [
    "# Standards data pre-processing"
   ]
  },
  {
   "cell_type": "markdown",
   "metadata": {},
   "source": [
    "# Loading packages\n"
   ]
  },
  {
   "cell_type": "code",
   "execution_count": 1,
   "metadata": {},
   "outputs": [],
   "source": [
    "%load_ext autoreload\n",
    "%autoreload 2\n",
    "import os\n",
    "import pandas as pd\n",
    "import numpy as np\n",
    "pd.set_option('display.max_columns', None) # force all columns show in pandas print"
   ]
  },
  {
   "cell_type": "markdown",
   "metadata": {},
   "source": [
    "# Filepath specficiation"
   ]
  },
  {
   "cell_type": "code",
   "execution_count": 2,
   "metadata": {},
   "outputs": [],
   "source": [
    "metadata_csv_input_filepath =  os.path.join(\n",
    "    \"data\", \"data_phophe\", \n",
    "    \"Pos_quant_full.csv\"\n",
    ")\n",
    "metadata_csv_output_filepath =  os.path.join(\n",
    "    \"data\", \n",
    "    \"data_phophe_output\", \n",
    "    \"metadata_phophe_standards_pos_processed.csv\"\n",
    ")"
   ]
  },
  {
   "cell_type": "markdown",
   "metadata": {},
   "source": [
    "# Load and process metadata for compatbility"
   ]
  },
  {
   "cell_type": "code",
   "execution_count": 3,
   "metadata": {},
   "outputs": [],
   "source": [
    "metadata = pd.read_csv(metadata_csv_input_filepath) # load the data from a suitable csv file. "
   ]
  },
  {
   "cell_type": "code",
   "execution_count": 4,
   "metadata": {},
   "outputs": [],
   "source": [
    "metadata.rename(columns={\"id\": \"feature_id\"}, inplace=True) # rename id to feature_id\n",
    "metadata[\"feature_id\"] = metadata[\"feature_id\"].astype('string') # retype feature_id to string\n",
    "annotation_columns = metadata.columns[metadata.columns.str.startswith('compound_db_identity')].to_list() # extract relvant column names via regex\n",
    "metadata = metadata.loc[:, [\"feature_id\"] + annotation_columns] # extract only relevant columns\n",
    "metadata.columns = metadata.columns.str.replace('compound_db_identity:', '') # remove prefix\n",
    "metadata = metadata.replace(np.nan,'not available',regex=True) # exchange NA for 'not available' string to guarantee readibility"
   ]
  },
  {
   "cell_type": "markdown",
   "metadata": {},
   "source": [
    "# Save metadata"
   ]
  },
  {
   "cell_type": "code",
   "execution_count": 5,
   "metadata": {},
   "outputs": [],
   "source": [
    "metadata.to_csv(metadata_csv_output_filepath)"
   ]
  }
 ],
 "metadata": {
  "kernelspec": {
   "display_name": "microtest",
   "language": "python",
   "name": "python3"
  },
  "language_info": {
   "codemirror_mode": {
    "name": "ipython",
    "version": 3
   },
   "file_extension": ".py",
   "mimetype": "text/x-python",
   "name": "python",
   "nbconvert_exporter": "python",
   "pygments_lexer": "ipython3",
   "version": "3.8.18"
  },
  "orig_nbformat": 4
 },
 "nbformat": 4,
 "nbformat_minor": 2
}
