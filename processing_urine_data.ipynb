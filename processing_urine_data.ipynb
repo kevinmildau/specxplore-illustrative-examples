{
 "cells": [
  {
   "cell_type": "markdown",
   "metadata": {},
   "source": [
    "# Urine data illustrative example processing"
   ]
  },
  {
   "cell_type": "code",
   "execution_count": null,
   "metadata": {},
   "outputs": [],
   "source": [
    "import specxplore.importing\n",
    "from specxplore.session_data import load_specxplore_object_from_pickle\n",
    "from specxplore.dashboard import SpecxploreDashboard\n",
    "import matchms\n",
    "import os # for filepath generality across operating systems of this notebook; the user may use operating specific filepaths\n",
    "import pandas as pd"
   ]
  },
  {
   "cell_type": "code",
   "execution_count": null,
   "metadata": {},
   "outputs": [],
   "source": [
    "data_file_path = os.path.join(\"data\", \"data_urine_output\", \"urine_plus_phophe.mgf\")\n",
    "model_file_path = os.path.join(\"models\", \"pos\")\n",
    "specxplore_output_filepath_ms2query = os.path.join(\"output\", \"ms2query_output_urine.csv\")\n",
    "specxplore_output_filepath_session = os.path.join(\"output\", \"specxplore_session_data_urine.pickle\")\n",
    "metadata_csv_filepath = os.path.join(\"data\", \"data_phophe_output\", \"metadata_phophe_standards_pos_processed.csv\")\n",
    "\n",
    "standards_metadata = pd.read_csv(metadata_csv_filepath)\n",
    "standards_metadata['feature_id'] = standards_metadata['feature_id'].astype('string')"
   ]
  },
  {
   "cell_type": "code",
   "execution_count": null,
   "metadata": {},
   "outputs": [],
   "source": [
    "pipeline_instance = specxplore.importing.specxploreImportingPipeline()\n",
    "pipeline_instance.attach_spectra_from_file(data_file_path)\n",
    "pipeline_instance.run_spectral_processing(\n",
    "  minimum_number_of_peaks = 3,\n",
    "  maximum_number_of_peaks = 200,\n",
    "  max_mz = 1000,\n",
    "  min_mz = 0\n",
    ")\n",
    "pipeline_instance.spectra_matchms = [matchms.filtering.select_by_relative_intensity(spec, intensity_from = 0.01, intensity_to = 1) for spec in pipeline_instance.spectra_matchms]\n",
    "pipeline_instance.spectra_matchms = [spec for spec in pipeline_instance.spectra_matchms if spec is not None and spec.peaks.mz.size >= 5] \n",
    "print(len(pipeline_instance.spectra_matchms))"
   ]
  },
  {
   "cell_type": "code",
   "execution_count": null,
   "metadata": {},
   "outputs": [],
   "source": [
    "pipeline_instance.run_spectral_similarity_computations(model_file_path)"
   ]
  },
  {
   "cell_type": "code",
   "execution_count": null,
   "metadata": {},
   "outputs": [],
   "source": [
    "# slow step, run following code chunk if data already available (<90 minutes)\n",
    "pipeline_instance.run_ms2query(model_file_path, results_filepath = specxplore_output_filepath_ms2query)"
   ]
  },
  {
   "cell_type": "code",
   "execution_count": null,
   "metadata": {},
   "outputs": [],
   "source": [
    "# pipeline_instance.attach_ms2query_results(specxplore_output_filepath_ms2query)"
   ]
  },
  {
   "cell_type": "code",
   "execution_count": null,
   "metadata": {},
   "outputs": [],
   "source": [
    "pipeline_instance.run_and_attach_tsne_grid(perplexity_values = [60]) \n",
    "pipeline_instance.run_and_attach_kmedoid_grid(k_values = [8, 16, 24, 64]) "
   ]
  },
  {
   "cell_type": "code",
   "execution_count": null,
   "metadata": {},
   "outputs": [],
   "source": [
    "features_to_highlight = standards_metadata[\"feature_id\"].to_list()\n",
    "selected_tsne_iloc = 0\n",
    "selected_kmedoid_ilocs = [0, 1, 2, 3]"
   ]
  },
  {
   "cell_type": "code",
   "execution_count": null,
   "metadata": {},
   "outputs": [],
   "source": [
    "pipeline_instance.attach_metadata_from_data_frame(standards_metadata)\n",
    "pipeline_instance.attach_feature_highlights(features_to_highlight)\n",
    "pipeline_instance.select_tsne_settings(selected_tsne_iloc)\n",
    "pipeline_instance.select_kmedoid_settings(selected_kmedoid_ilocs)\n",
    "pipeline_instance.export_specxplore_session_data(force = True, filepath = specxplore_output_filepath_session)"
   ]
  },
  {
   "cell_type": "code",
   "execution_count": null,
   "metadata": {},
   "outputs": [],
   "source": [
    "data = load_specxplore_object_from_pickle(filepath=specxplore_output_filepath_session)\n",
    "dashboard = SpecxploreDashboard(data)\n",
    "dashboard.run_app(jupyter_mode = \"external\", port = \"8050\")"
   ]
  }
 ],
 "metadata": {
  "kernelspec": {
   "display_name": "ms2query",
   "language": "python",
   "name": "python3"
  },
  "language_info": {
   "codemirror_mode": {
    "name": "ipython",
    "version": 3
   },
   "file_extension": ".py",
   "mimetype": "text/x-python",
   "name": "python",
   "nbconvert_exporter": "python",
   "pygments_lexer": "ipython3",
   "version": "3.8.18"
  },
  "orig_nbformat": 4,
  "vscode": {
   "interpreter": {
    "hash": "9a0b26849922d3efa4ca8f7f44f3270d767c2f891cd76b04d402dd44f3a9f0f5"
   }
  }
 },
 "nbformat": 4,
 "nbformat_minor": 2
}
