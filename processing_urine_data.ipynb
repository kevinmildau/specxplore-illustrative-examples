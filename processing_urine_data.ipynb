{
 "cells": [
  {
   "cell_type": "markdown",
   "metadata": {},
   "source": [
    "# Urine data illustrative example processing"
   ]
  },
  {
   "cell_type": "markdown",
   "metadata": {},
   "source": [
    "# Package loading and file path specification"
   ]
  },
  {
   "cell_type": "code",
   "execution_count": 1,
   "metadata": {},
   "outputs": [],
   "source": [
    "import specxplore.importing\n",
    "import matchms\n",
    "import matchms.filtering\n",
    "import ms2query\n",
    "import os\n",
    "import pandas as pd\n",
    "import numpy as np"
   ]
  },
  {
   "cell_type": "code",
   "execution_count": 2,
   "metadata": {},
   "outputs": [],
   "source": [
    "# Relative input and output paths\n",
    "# Input paths\n",
    "models_and_library_folder_path = os.path.join(\"models\", \"pos\")\n",
    "input_mgf_filepath = os.path.join(\"data\", \"data_urine_output\", \"urine_plus_phophe.mgf\")\n",
    "\n",
    "# ms2query required paths\n",
    "input_data_folder  = os.path.join(\"data\", \"data_urine_output\")\n",
    "mgf_filename       = os.path.join(\"urine_plus_phophe.mgf\")\n",
    "output_ms2query_directory = os.path.join(\"data\", \"data_urine_output\") # folder to which ms2query puts the results csv\n",
    "output_ms2query_filepath = os.path.join(\"data\", \"data_urine_output\", \"urine_plus_phophe.csv\") # ms2query csv file name derived from input spectrum filename\n",
    "\n",
    "# metadata for standards\n",
    "metadata_csv_filepath =  os.path.join(\"data\", \"data_phophe_output\", \"metadata_phophe_standards_pos_processed.csv\")\n",
    "\n",
    "# Output paths\n",
    "output_filepath = os.path.join(\"data\", \"data_urine_output\", \"specxplore_urine.pickle\")"
   ]
  },
  {
   "cell_type": "markdown",
   "metadata": {},
   "source": [
    "# Loading spectral data"
   ]
  },
  {
   "cell_type": "code",
   "execution_count": 3,
   "metadata": {},
   "outputs": [],
   "source": [
    "spectra_matchms = list(matchms.importing.load_from_mgf(input_mgf_filepath))"
   ]
  },
  {
   "cell_type": "markdown",
   "metadata": {},
   "source": [
    "# Basic spectral data processing"
   ]
  },
  {
   "cell_type": "code",
   "execution_count": 4,
   "metadata": {},
   "outputs": [
    {
     "name": "stdout",
     "output_type": "stream",
     "text": [
      "Number of spectra prior to filtering:  4381\n",
      "Number of spectra after to filtering:  4346\n",
      "Number of spectra after additional filtering: 3818\n"
     ]
    }
   ],
   "source": [
    "spectra_matchms = specxplore.importing.apply_basic_matchms_filters_to_spectra(spectra_matchms)\n",
    "# Additional noise removal filtering\n",
    "spectra_matchms = [matchms.filtering.select_by_relative_intensity(spec, intensity_from = 0.01, intensity_to = 1) for spec in spectra_matchms]\n",
    "spectra_matchms = [spec for spec in spectra_matchms if spec is not None and spec.peaks.mz.size >= 5] \n",
    "print(\"Number of spectra after additional filtering:\", len(spectra_matchms))"
   ]
  },
  {
   "cell_type": "code",
   "execution_count": 5,
   "metadata": {},
   "outputs": [
    {
     "name": "stdout",
     "output_type": "stream",
     "text": [
      "Assertions on excess peaks passed.\n",
      "Assertions on minimum peaks passed.\n"
     ]
    }
   ],
   "source": [
    "# Check for sucess\n",
    "for spec in spectra_matchms:\n",
    "    assert all(spec.peaks.mz < 1000), \"Peak with mz of 1000 or more found.\"\n",
    "print('Assertions on excess peaks passed.')\n",
    "# Check for sucess\n",
    "for spec in spectra_matchms:\n",
    "    assert spec.peaks.mz.size > 0, \"Spectrum with insufficient number of peaks found.\"\n",
    "print('Assertions on minimum peaks passed.')"
   ]
  },
  {
   "cell_type": "code",
   "execution_count": 6,
   "metadata": {},
   "outputs": [],
   "source": [
    "# Check for uniqueness of feature_ids \n",
    "feature_ids = [spec.get(\"feature_id\") for spec in spectra_matchms]\n",
    "assert len(feature_ids) == len(set(feature_ids))"
   ]
  },
  {
   "cell_type": "markdown",
   "metadata": {},
   "source": [
    "# Loading metadata"
   ]
  },
  {
   "cell_type": "code",
   "execution_count": 7,
   "metadata": {},
   "outputs": [],
   "source": [
    "standards_metadata = pd.read_csv(metadata_csv_filepath)\n",
    "standards_metadata['feature_id'] = standards_metadata['feature_id'].astype('string')"
   ]
  },
  {
   "cell_type": "markdown",
   "metadata": {},
   "source": [
    "# Run ms2query\n",
    "\n",
    "To run or rerun ms2query, set the boolean to True. This step is deactivated as a default as it takes the longest."
   ]
  },
  {
   "cell_type": "code",
   "execution_count": 8,
   "metadata": {},
   "outputs": [],
   "source": [
    "if False:\n",
    "        ms2library = ms2query.create_library_object_from_one_dir(models_and_library_folder_path)\n",
    "        ms2query.run_ms2query_single_file(\n",
    "                ms2library = ms2library, \n",
    "                folder_with_spectra = input_data_folder,\n",
    "                spectrum_file_name = mgf_filename, \n",
    "                results_folder = output_ms2query_directory,\n",
    "                settings = ms2query.utils.SettingsRunMS2Query())"
   ]
  },
  {
   "cell_type": "markdown",
   "metadata": {},
   "source": [
    "# Align ms2query with feature_ids & extract analog classifications\n"
   ]
  },
  {
   "cell_type": "code",
   "execution_count": 9,
   "metadata": {},
   "outputs": [],
   "source": [
    "raw_mgf_spectra = list(matchms.importing.load_from_mgf(input_mgf_filepath))\n",
    "raw_data_spectrum_number = [iloc for iloc in range(1, len(raw_mgf_spectra)+1)]\n",
    "raw_data_feature_ids = [spec.get('feature_id') for spec in raw_mgf_spectra]\n",
    "raw_iloc_to_feature_id_mapping = pd.DataFrame({\"feature_id\": raw_data_feature_ids, \"query_spectrum_nr\" : raw_data_spectrum_number})\n",
    "# run stuff for ms2query here or at separate file, you need the csv file here \n",
    "ms2query_annotation_table = pd.read_csv(output_ms2query_filepath)\n",
    "ms2query_annotation_table = ms2query_annotation_table.merge(raw_iloc_to_feature_id_mapping, how = \"left\", on=\"query_spectrum_nr\")\n",
    "# renaming ms2query feature identifier column\n",
    "ms2query_annotation_table[\"feature_id\"] = ms2query_annotation_table[\"feature_id\"].astype(\"string\") # recasting to string type if not already"
   ]
  },
  {
   "cell_type": "code",
   "execution_count": 10,
   "metadata": {},
   "outputs": [],
   "source": [
    "# extracting ms2query analog classification table for heuristic highlighting\n",
    "ms2query_analog_classification = ms2query_annotation_table.loc[:, ['cf_superclass', 'cf_class', 'cf_subclass',\n",
    "       'cf_direct_parent', 'npc_class_results', 'npc_superclass_results',\n",
    "       'npc_pathway_results', 'feature_id']]"
   ]
  },
  {
   "cell_type": "markdown",
   "metadata": {},
   "source": [
    "# Create basic specXplore session object"
   ]
  },
  {
   "cell_type": "code",
   "execution_count": 11,
   "metadata": {},
   "outputs": [],
   "source": [
    "cosine_scores = specxplore.importing.compute_similarities_cosine(\n",
    "    spectrum_list=spectra_matchms\n",
    ")"
   ]
  },
  {
   "cell_type": "code",
   "execution_count": 12,
   "metadata": {},
   "outputs": [
    {
     "name": "stdout",
     "output_type": "stream",
     "text": [
      "Metal device set to: Apple M1 Pro\n",
      "\n",
      "systemMemory: 16.00 GB\n",
      "maxCacheSize: 5.33 GB\n",
      "\n"
     ]
    },
    {
     "name": "stderr",
     "output_type": "stream",
     "text": [
      "Spectrum binning: 100%|██████████| 3818/3818 [00:00<00:00, 32193.83it/s]\n",
      "Create BinnedSpectrum instances: 100%|██████████| 3818/3818 [00:00<00:00, 313493.06it/s]\n",
      "Calculating vectors of reference spectrums: 100%|██████████| 3818/3818 [01:33<00:00, 40.74it/s]\n"
     ]
    }
   ],
   "source": [
    "ms2ds_scores = specxplore.importing.compute_similarities_ms2ds(\n",
    "    spectrum_list=spectra_matchms, \n",
    "    model_path=models_and_library_folder_path\n",
    ")"
   ]
  },
  {
   "cell_type": "code",
   "execution_count": 13,
   "metadata": {},
   "outputs": [],
   "source": [
    "s2v_scores = specxplore.importing.compute_similarities_s2v(\n",
    "    spectrum_list=spectra_matchms, \n",
    "    model_path=models_and_library_folder_path\n",
    ")"
   ]
  },
  {
   "cell_type": "code",
   "execution_count": 14,
   "metadata": {},
   "outputs": [],
   "source": [
    "heuristic_score = np.maximum(cosine_scores, ms2ds_scores) # not used"
   ]
  },
  {
   "cell_type": "code",
   "execution_count": 15,
   "metadata": {},
   "outputs": [],
   "source": [
    "# use the specXplore constructor to get a barebones session data object (not suitable for specXplore yet)\n",
    "specxplore_urine = specxplore.importing.SessionData(\n",
    "    spectra_matchms,\n",
    "    models_and_library_folder_path,\n",
    "    primary_score = ms2ds_scores,\n",
    "    secondary_score = cosine_scores,\n",
    "    tertiary_score = s2v_scores,\n",
    "    score_names = [\"ms2ds\", \"cosine\", \"spec2vec\"]\n",
    ")"
   ]
  },
  {
   "cell_type": "markdown",
   "metadata": {},
   "source": [
    "# Run k-medoid clustering and t-SNE"
   ]
  },
  {
   "cell_type": "code",
   "execution_count": 16,
   "metadata": {},
   "outputs": [
    {
     "name": "stdout",
     "output_type": "stream",
     "text": [
      "iloc Number-of-Clusters Silhouette-Score\n",
      "0 8 0.201\n",
      "1 16 0.191\n",
      "2 24 0.207\n",
      "3 32 0.195\n",
      "4 64 0.219\n",
      "5 128 0.211\n",
      "iloc Perplexity Pearson-score Spearman-score\n",
      "0 5 0.443 0.42\n",
      "1 10 0.515 0.498\n",
      "2 20 0.565 0.55\n",
      "3 30 0.585 0.572\n",
      "4 40 0.601 0.587\n",
      "5 50 0.608 0.593\n",
      "6 60 0.609 0.593\n"
     ]
    }
   ],
   "source": [
    "# run kmedoid and tsne grid computations for assessing \n",
    "specxplore_urine.attach_kmedoid_grid(k_values=[8, 16, 24, 32, 64, 128])\n",
    "specxplore_urine.attach_run_tsne_grid( perplexity_values=[5, 10, 20, 30, 40, 50, 60])"
   ]
  },
  {
   "cell_type": "markdown",
   "metadata": {},
   "source": [
    "# Select k-medoid and t-SNE values"
   ]
  },
  {
   "cell_type": "code",
   "execution_count": 17,
   "metadata": {},
   "outputs": [],
   "source": [
    "# select a particular iloc of the tsne grid with good distance preservation\n",
    "specxplore_urine.select_tsne_coordinates(6) \n",
    "# select particular iloc(s) for kmedoid cluster assignments to add to class table\n",
    "specxplore_urine.select_kmedoid_cluster_assignments([0,1,2,4]) "
   ]
  },
  {
   "cell_type": "markdown",
   "metadata": {},
   "source": [
    "# Attach ms2query classifications to class table"
   ]
  },
  {
   "cell_type": "code",
   "execution_count": 18,
   "metadata": {},
   "outputs": [],
   "source": [
    "specxplore_urine.attach_addon_data_to_class_table(ms2query_analog_classification)"
   ]
  },
  {
   "cell_type": "markdown",
   "metadata": {},
   "source": [
    "# Attach standard feature ids to highlight table"
   ]
  },
  {
   "cell_type": "code",
   "execution_count": 19,
   "metadata": {},
   "outputs": [],
   "source": [
    "specxplore_urine.construct_highlight_table(standards_metadata[\"feature_id\"].to_list()) "
   ]
  },
  {
   "cell_type": "markdown",
   "metadata": {},
   "source": [
    "# Attach metadata"
   ]
  },
  {
   "cell_type": "code",
   "execution_count": 20,
   "metadata": {},
   "outputs": [
    {
     "data": {
      "text/html": [
       "<div>\n",
       "<style scoped>\n",
       "    .dataframe tbody tr th:only-of-type {\n",
       "        vertical-align: middle;\n",
       "    }\n",
       "\n",
       "    .dataframe tbody tr th {\n",
       "        vertical-align: top;\n",
       "    }\n",
       "\n",
       "    .dataframe thead th {\n",
       "        text-align: right;\n",
       "    }\n",
       "</style>\n",
       "<table border=\"1\" class=\"dataframe\">\n",
       "  <thead>\n",
       "    <tr style=\"text-align: right;\">\n",
       "      <th></th>\n",
       "      <th>feature_id</th>\n",
       "      <th>spectrum_iloc</th>\n",
       "      <th>Unnamed: 0</th>\n",
       "      <th>compound_db_identity</th>\n",
       "      <th>compound_name</th>\n",
       "      <th>compound_annotation_score</th>\n",
       "      <th>mol_formula</th>\n",
       "      <th>adduct</th>\n",
       "      <th>precursor_mz</th>\n",
       "      <th>mz_diff_ppm</th>\n",
       "      <th>...</th>\n",
       "      <th>retention_index</th>\n",
       "      <th>smiles</th>\n",
       "      <th>cf_kingdom</th>\n",
       "      <th>cf_superclass</th>\n",
       "      <th>cf_class</th>\n",
       "      <th>cf_subclass</th>\n",
       "      <th>cf_direct_parent</th>\n",
       "      <th>npc_class_results</th>\n",
       "      <th>npc_superclass_results</th>\n",
       "      <th>npc_pathway_results</th>\n",
       "    </tr>\n",
       "  </thead>\n",
       "  <tbody>\n",
       "    <tr>\n",
       "      <th>0</th>\n",
       "      <td>urine_1</td>\n",
       "      <td>0</td>\n",
       "      <td>not available</td>\n",
       "      <td>not available</td>\n",
       "      <td>not available</td>\n",
       "      <td>not available</td>\n",
       "      <td>not available</td>\n",
       "      <td>not available</td>\n",
       "      <td>not available</td>\n",
       "      <td>not available</td>\n",
       "      <td>...</td>\n",
       "      <td>not available</td>\n",
       "      <td>CCCN(CCOC1=C(Cl)C=C(Cl)C=C1Cl)C(=O)NC=O</td>\n",
       "      <td>Organic compounds</td>\n",
       "      <td>Benzenoids</td>\n",
       "      <td>Phenol ethers</td>\n",
       "      <td>not available</td>\n",
       "      <td>Phenol ethers</td>\n",
       "      <td>not available</td>\n",
       "      <td>not available</td>\n",
       "      <td>not available</td>\n",
       "    </tr>\n",
       "    <tr>\n",
       "      <th>1</th>\n",
       "      <td>urine_2</td>\n",
       "      <td>1</td>\n",
       "      <td>not available</td>\n",
       "      <td>not available</td>\n",
       "      <td>not available</td>\n",
       "      <td>not available</td>\n",
       "      <td>not available</td>\n",
       "      <td>not available</td>\n",
       "      <td>not available</td>\n",
       "      <td>not available</td>\n",
       "      <td>...</td>\n",
       "      <td>not available</td>\n",
       "      <td>not available</td>\n",
       "      <td>not available</td>\n",
       "      <td>not available</td>\n",
       "      <td>not available</td>\n",
       "      <td>not available</td>\n",
       "      <td>not available</td>\n",
       "      <td>not available</td>\n",
       "      <td>not available</td>\n",
       "      <td>not available</td>\n",
       "    </tr>\n",
       "    <tr>\n",
       "      <th>2</th>\n",
       "      <td>urine_5</td>\n",
       "      <td>2</td>\n",
       "      <td>not available</td>\n",
       "      <td>not available</td>\n",
       "      <td>not available</td>\n",
       "      <td>not available</td>\n",
       "      <td>not available</td>\n",
       "      <td>not available</td>\n",
       "      <td>not available</td>\n",
       "      <td>not available</td>\n",
       "      <td>...</td>\n",
       "      <td>not available</td>\n",
       "      <td>not available</td>\n",
       "      <td>not available</td>\n",
       "      <td>not available</td>\n",
       "      <td>not available</td>\n",
       "      <td>not available</td>\n",
       "      <td>not available</td>\n",
       "      <td>not available</td>\n",
       "      <td>not available</td>\n",
       "      <td>not available</td>\n",
       "    </tr>\n",
       "    <tr>\n",
       "      <th>3</th>\n",
       "      <td>urine_6</td>\n",
       "      <td>3</td>\n",
       "      <td>not available</td>\n",
       "      <td>not available</td>\n",
       "      <td>not available</td>\n",
       "      <td>not available</td>\n",
       "      <td>not available</td>\n",
       "      <td>not available</td>\n",
       "      <td>not available</td>\n",
       "      <td>not available</td>\n",
       "      <td>...</td>\n",
       "      <td>not available</td>\n",
       "      <td>CC[C@H](C)[C@@H](C(=O)N[C@@H](CC(C)C)C(=O)N[C@...</td>\n",
       "      <td>not available</td>\n",
       "      <td>not available</td>\n",
       "      <td>not available</td>\n",
       "      <td>not available</td>\n",
       "      <td>not available</td>\n",
       "      <td>Dipeptides; Tripeptides</td>\n",
       "      <td>Small peptides</td>\n",
       "      <td>Amino acids and Peptides</td>\n",
       "    </tr>\n",
       "    <tr>\n",
       "      <th>4</th>\n",
       "      <td>urine_16</td>\n",
       "      <td>4</td>\n",
       "      <td>not available</td>\n",
       "      <td>not available</td>\n",
       "      <td>not available</td>\n",
       "      <td>not available</td>\n",
       "      <td>not available</td>\n",
       "      <td>not available</td>\n",
       "      <td>not available</td>\n",
       "      <td>not available</td>\n",
       "      <td>...</td>\n",
       "      <td>not available</td>\n",
       "      <td>CC(C)C[C@@H](C(=O)O)NC(=O)[C@H](CO)N</td>\n",
       "      <td>Organic compounds</td>\n",
       "      <td>Organic acids and derivatives</td>\n",
       "      <td>Carboxylic acids and derivatives</td>\n",
       "      <td>Amino acids, peptides, and analogues</td>\n",
       "      <td>Dipeptides</td>\n",
       "      <td>Dipeptides</td>\n",
       "      <td>Small peptides</td>\n",
       "      <td>Amino acids and Peptides</td>\n",
       "    </tr>\n",
       "    <tr>\n",
       "      <th>...</th>\n",
       "      <td>...</td>\n",
       "      <td>...</td>\n",
       "      <td>...</td>\n",
       "      <td>...</td>\n",
       "      <td>...</td>\n",
       "      <td>...</td>\n",
       "      <td>...</td>\n",
       "      <td>...</td>\n",
       "      <td>...</td>\n",
       "      <td>...</td>\n",
       "      <td>...</td>\n",
       "      <td>...</td>\n",
       "      <td>...</td>\n",
       "      <td>...</td>\n",
       "      <td>...</td>\n",
       "      <td>...</td>\n",
       "      <td>...</td>\n",
       "      <td>...</td>\n",
       "      <td>...</td>\n",
       "      <td>...</td>\n",
       "      <td>...</td>\n",
       "    </tr>\n",
       "    <tr>\n",
       "      <th>3813</th>\n",
       "      <td>14411</td>\n",
       "      <td>3813</td>\n",
       "      <td>72.0</td>\n",
       "      <td>not available</td>\n",
       "      <td>not available</td>\n",
       "      <td>not available</td>\n",
       "      <td>not available</td>\n",
       "      <td>not available</td>\n",
       "      <td>not available</td>\n",
       "      <td>not available</td>\n",
       "      <td>...</td>\n",
       "      <td>not available</td>\n",
       "      <td>not available</td>\n",
       "      <td>not available</td>\n",
       "      <td>not available</td>\n",
       "      <td>not available</td>\n",
       "      <td>not available</td>\n",
       "      <td>not available</td>\n",
       "      <td>not available</td>\n",
       "      <td>not available</td>\n",
       "      <td>not available</td>\n",
       "    </tr>\n",
       "    <tr>\n",
       "      <th>3814</th>\n",
       "      <td>14542</td>\n",
       "      <td>3814</td>\n",
       "      <td>74.0</td>\n",
       "      <td>S-equol: [M+H]+: 0.715</td>\n",
       "      <td>S-equol</td>\n",
       "      <td>0.71</td>\n",
       "      <td>C15H14O3</td>\n",
       "      <td>[M+H]+</td>\n",
       "      <td>243.10157</td>\n",
       "      <td>-0.5</td>\n",
       "      <td>...</td>\n",
       "      <td>not available</td>\n",
       "      <td>C1[C@H](COC2=C1C=CC(=C2)O)C3=CC=C(C=C3)O</td>\n",
       "      <td>Organic compounds</td>\n",
       "      <td>Phenylpropanoids and polyketides</td>\n",
       "      <td>Isoflavonoids</td>\n",
       "      <td>Isoflavans</td>\n",
       "      <td>Isoflavanols</td>\n",
       "      <td>Isoflavanones</td>\n",
       "      <td>Isoflavonoids</td>\n",
       "      <td>Shikimates and Phenylpropanoids</td>\n",
       "    </tr>\n",
       "    <tr>\n",
       "      <th>3815</th>\n",
       "      <td>14758</td>\n",
       "      <td>3815</td>\n",
       "      <td>75.0</td>\n",
       "      <td>Kaempferol: [M+H]+: 0.576</td>\n",
       "      <td>Kaempferol</td>\n",
       "      <td>0.58</td>\n",
       "      <td>C15H10O6</td>\n",
       "      <td>[M+H]+</td>\n",
       "      <td>287.05501</td>\n",
       "      <td>-1.15</td>\n",
       "      <td>...</td>\n",
       "      <td>not available</td>\n",
       "      <td>not available</td>\n",
       "      <td>not available</td>\n",
       "      <td>not available</td>\n",
       "      <td>not available</td>\n",
       "      <td>not available</td>\n",
       "      <td>not available</td>\n",
       "      <td>not available</td>\n",
       "      <td>not available</td>\n",
       "      <td>not available</td>\n",
       "    </tr>\n",
       "    <tr>\n",
       "      <th>3816</th>\n",
       "      <td>15017</td>\n",
       "      <td>3816</td>\n",
       "      <td>77.0</td>\n",
       "      <td>Hesperetin: [M+H]+: 0.691</td>\n",
       "      <td>Hesperetin</td>\n",
       "      <td>0.69</td>\n",
       "      <td>C16H14O6</td>\n",
       "      <td>[M+H]+</td>\n",
       "      <td>303.08631</td>\n",
       "      <td>-1.23</td>\n",
       "      <td>...</td>\n",
       "      <td>not available</td>\n",
       "      <td>O=C1C2=C(O)C=C(O)C=C2OC(C3=CC=C(OC)C(O)=C3)C1</td>\n",
       "      <td>Organic compounds</td>\n",
       "      <td>Phenylpropanoids and polyketides</td>\n",
       "      <td>Flavonoids</td>\n",
       "      <td>O-methylated flavonoids</td>\n",
       "      <td>4'-O-methylated flavonoids</td>\n",
       "      <td>Flavanones</td>\n",
       "      <td>Flavonoids</td>\n",
       "      <td>Shikimates and Phenylpropanoids</td>\n",
       "    </tr>\n",
       "    <tr>\n",
       "      <th>3817</th>\n",
       "      <td>16698</td>\n",
       "      <td>3817</td>\n",
       "      <td>81.0</td>\n",
       "      <td>Eugenol: [M+H]+: 0.839</td>\n",
       "      <td>Eugenol</td>\n",
       "      <td>0.84</td>\n",
       "      <td>C10H12O2</td>\n",
       "      <td>[M+H]+</td>\n",
       "      <td>165.09101</td>\n",
       "      <td>-0.08</td>\n",
       "      <td>...</td>\n",
       "      <td>not available</td>\n",
       "      <td>CN1C(N(C)C(N=CN2C)=C2C1=O)=O</td>\n",
       "      <td>Organic compounds</td>\n",
       "      <td>Organoheterocyclic compounds</td>\n",
       "      <td>Imidazopyrimidines</td>\n",
       "      <td>Purines and purine derivatives</td>\n",
       "      <td>Xanthines</td>\n",
       "      <td>Purine alkaloids</td>\n",
       "      <td>Pseudoalkaloids (transamidation)</td>\n",
       "      <td>Alkaloids</td>\n",
       "    </tr>\n",
       "  </tbody>\n",
       "</table>\n",
       "<p>3818 rows × 31 columns</p>\n",
       "</div>"
      ],
      "text/plain": [
       "     feature_id spectrum_iloc     Unnamed: 0       compound_db_identity  \\\n",
       "0       urine_1             0  not available              not available   \n",
       "1       urine_2             1  not available              not available   \n",
       "2       urine_5             2  not available              not available   \n",
       "3       urine_6             3  not available              not available   \n",
       "4      urine_16             4  not available              not available   \n",
       "...         ...           ...            ...                        ...   \n",
       "3813      14411          3813           72.0              not available   \n",
       "3814      14542          3814           74.0     S-equol: [M+H]+: 0.715   \n",
       "3815      14758          3815           75.0  Kaempferol: [M+H]+: 0.576   \n",
       "3816      15017          3816           77.0  Hesperetin: [M+H]+: 0.691   \n",
       "3817      16698          3817           81.0     Eugenol: [M+H]+: 0.839   \n",
       "\n",
       "      compound_name compound_annotation_score    mol_formula         adduct  \\\n",
       "0     not available             not available  not available  not available   \n",
       "1     not available             not available  not available  not available   \n",
       "2     not available             not available  not available  not available   \n",
       "3     not available             not available  not available  not available   \n",
       "4     not available             not available  not available  not available   \n",
       "...             ...                       ...            ...            ...   \n",
       "3813  not available             not available  not available  not available   \n",
       "3814        S-equol                      0.71       C15H14O3         [M+H]+   \n",
       "3815     Kaempferol                      0.58       C15H10O6         [M+H]+   \n",
       "3816     Hesperetin                      0.69       C16H14O6         [M+H]+   \n",
       "3817        Eugenol                      0.84       C10H12O2         [M+H]+   \n",
       "\n",
       "       precursor_mz    mz_diff_ppm  ... retention_index  \\\n",
       "0     not available  not available  ...   not available   \n",
       "1     not available  not available  ...   not available   \n",
       "2     not available  not available  ...   not available   \n",
       "3     not available  not available  ...   not available   \n",
       "4     not available  not available  ...   not available   \n",
       "...             ...            ...  ...             ...   \n",
       "3813  not available  not available  ...   not available   \n",
       "3814      243.10157           -0.5  ...   not available   \n",
       "3815      287.05501          -1.15  ...   not available   \n",
       "3816      303.08631          -1.23  ...   not available   \n",
       "3817      165.09101          -0.08  ...   not available   \n",
       "\n",
       "                                                 smiles         cf_kingdom  \\\n",
       "0               CCCN(CCOC1=C(Cl)C=C(Cl)C=C1Cl)C(=O)NC=O  Organic compounds   \n",
       "1                                         not available      not available   \n",
       "2                                         not available      not available   \n",
       "3     CC[C@H](C)[C@@H](C(=O)N[C@@H](CC(C)C)C(=O)N[C@...      not available   \n",
       "4                  CC(C)C[C@@H](C(=O)O)NC(=O)[C@H](CO)N  Organic compounds   \n",
       "...                                                 ...                ...   \n",
       "3813                                      not available      not available   \n",
       "3814           C1[C@H](COC2=C1C=CC(=C2)O)C3=CC=C(C=C3)O  Organic compounds   \n",
       "3815                                      not available      not available   \n",
       "3816      O=C1C2=C(O)C=C(O)C=C2OC(C3=CC=C(OC)C(O)=C3)C1  Organic compounds   \n",
       "3817                       CN1C(N(C)C(N=CN2C)=C2C1=O)=O  Organic compounds   \n",
       "\n",
       "                         cf_superclass                          cf_class  \\\n",
       "0                           Benzenoids                     Phenol ethers   \n",
       "1                        not available                     not available   \n",
       "2                        not available                     not available   \n",
       "3                        not available                     not available   \n",
       "4        Organic acids and derivatives  Carboxylic acids and derivatives   \n",
       "...                                ...                               ...   \n",
       "3813                     not available                     not available   \n",
       "3814  Phenylpropanoids and polyketides                     Isoflavonoids   \n",
       "3815                     not available                     not available   \n",
       "3816  Phenylpropanoids and polyketides                        Flavonoids   \n",
       "3817      Organoheterocyclic compounds                Imidazopyrimidines   \n",
       "\n",
       "                               cf_subclass            cf_direct_parent  \\\n",
       "0                            not available               Phenol ethers   \n",
       "1                            not available               not available   \n",
       "2                            not available               not available   \n",
       "3                            not available               not available   \n",
       "4     Amino acids, peptides, and analogues                  Dipeptides   \n",
       "...                                    ...                         ...   \n",
       "3813                         not available               not available   \n",
       "3814                            Isoflavans                Isoflavanols   \n",
       "3815                         not available               not available   \n",
       "3816               O-methylated flavonoids  4'-O-methylated flavonoids   \n",
       "3817        Purines and purine derivatives                   Xanthines   \n",
       "\n",
       "            npc_class_results            npc_superclass_results  \\\n",
       "0               not available                     not available   \n",
       "1               not available                     not available   \n",
       "2               not available                     not available   \n",
       "3     Dipeptides; Tripeptides                    Small peptides   \n",
       "4                  Dipeptides                    Small peptides   \n",
       "...                       ...                               ...   \n",
       "3813            not available                     not available   \n",
       "3814            Isoflavanones                     Isoflavonoids   \n",
       "3815            not available                     not available   \n",
       "3816               Flavanones                        Flavonoids   \n",
       "3817         Purine alkaloids  Pseudoalkaloids (transamidation)   \n",
       "\n",
       "                  npc_pathway_results  \n",
       "0                       not available  \n",
       "1                       not available  \n",
       "2                       not available  \n",
       "3            Amino acids and Peptides  \n",
       "4            Amino acids and Peptides  \n",
       "...                               ...  \n",
       "3813                    not available  \n",
       "3814  Shikimates and Phenylpropanoids  \n",
       "3815                    not available  \n",
       "3816  Shikimates and Phenylpropanoids  \n",
       "3817                        Alkaloids  \n",
       "\n",
       "[3818 rows x 31 columns]"
      ]
     },
     "execution_count": 20,
     "metadata": {},
     "output_type": "execute_result"
    }
   ],
   "source": [
    "specxplore_urine.attach_addon_data_to_metadata(standards_metadata)\n",
    "specxplore_urine.attach_addon_data_to_metadata(ms2query_annotation_table)\n",
    "specxplore_urine.metadata_table"
   ]
  },
  {
   "cell_type": "markdown",
   "metadata": {},
   "source": [
    "# Initialize and save specxplore running session"
   ]
  },
  {
   "cell_type": "code",
   "execution_count": 21,
   "metadata": {},
   "outputs": [],
   "source": [
    "specxplore_urine.initialize_specxplore_session()\n",
    "specxplore_urine.check_and_save_to_file(output_filepath)"
   ]
  }
 ],
 "metadata": {
  "kernelspec": {
   "display_name": "ms2query",
   "language": "python",
   "name": "python3"
  },
  "language_info": {
   "codemirror_mode": {
    "name": "ipython",
    "version": 3
   },
   "file_extension": ".py",
   "mimetype": "text/x-python",
   "name": "python",
   "nbconvert_exporter": "python",
   "pygments_lexer": "ipython3",
   "version": "3.8.17"
  },
  "orig_nbformat": 4,
  "vscode": {
   "interpreter": {
    "hash": "9a0b26849922d3efa4ca8f7f44f3270d767c2f891cd76b04d402dd44f3a9f0f5"
   }
  }
 },
 "nbformat": 4,
 "nbformat_minor": 2
}
